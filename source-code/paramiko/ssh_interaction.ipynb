{
 "cells": [
  {
   "cell_type": "markdown",
   "metadata": {},
   "source": [
    "# Server interaction"
   ]
  },
  {
   "cell_type": "code",
   "execution_count": null,
   "metadata": {
    "ExecuteTime": {
     "end_time": "2018-11-14T10:36:38.868834Z",
     "start_time": "2018-11-14T10:36:37.340027Z"
    }
   },
   "outputs": [],
   "source": [
    "import paramiko\n",
    "from pathlib import Path"
   ]
  },
  {
   "cell_type": "markdown",
   "metadata": {},
   "source": [
    "## Using SSH to execute remote commands"
   ]
  },
  {
   "cell_type": "markdown",
   "metadata": {},
   "source": [
    "**Important note:** some servers have a limit on the number of successful or unsuccessful logins for a time period.  If that limit is exceeded, your IP address will be banned for some time.  Hence be careful never to make a large number of connections over a short period of time!"
   ]
  },
  {
   "cell_type": "markdown",
   "metadata": {},
   "source": [
    "**Important note:** the key to use for authentication by Paramiko should be the first one in your SSH agent.  If necessary, delete other keys using `ssh-add -d <key>` for the other keys.  If necessary, they can be added again later."
   ]
  },
  {
   "cell_type": "markdown",
   "metadata": {},
   "source": [
    "Create a client, load the authentication keys, and connect to the system."
   ]
  },
  {
   "cell_type": "code",
   "execution_count": null,
   "metadata": {
    "ExecuteTime": {
     "end_time": "2018-11-14T10:36:39.400422Z",
     "start_time": "2018-11-14T10:36:38.887395Z"
    }
   },
   "outputs": [],
   "source": [
    "client = paramiko.SSHClient()\n",
    "client.load_system_host_keys()"
   ]
  },
  {
   "cell_type": "code",
   "execution_count": null,
   "metadata": {
    "ExecuteTime": {
     "end_time": "2018-11-14T10:36:39.436614Z",
     "start_time": "2018-11-14T10:36:39.421229Z"
    }
   },
   "outputs": [],
   "source": [
    "hostname = 'login.hpc.kuleuven.be'"
   ]
  },
  {
   "cell_type": "code",
   "execution_count": null,
   "metadata": {
    "ExecuteTime": {
     "end_time": "2018-11-14T10:36:40.092803Z",
     "start_time": "2018-11-14T10:36:39.456854Z"
    }
   },
   "outputs": [],
   "source": [
    "client.connect(hostname, username='vsc30140', )"
   ]
  },
  {
   "cell_type": "markdown",
   "metadata": {},
   "source": [
    "Execute an `ls` command on the remote host."
   ]
  },
  {
   "cell_type": "code",
   "execution_count": null,
   "metadata": {
    "ExecuteTime": {
     "end_time": "2018-11-14T10:36:40.182797Z",
     "start_time": "2018-11-14T10:36:40.139420Z"
    }
   },
   "outputs": [],
   "source": [
    "_, stdout, _ = client.exec_command('ls -l *.pbs')"
   ]
  },
  {
   "cell_type": "markdown",
   "metadata": {},
   "source": [
    "Now the output of the remote `ls` command can be read from `stdout`.  Note that in this case we are ignoring both standard input and standard error."
   ]
  },
  {
   "cell_type": "code",
   "execution_count": null,
   "metadata": {
    "ExecuteTime": {
     "end_time": "2018-11-14T10:36:40.231362Z",
     "start_time": "2018-11-14T10:36:40.203599Z"
    }
   },
   "outputs": [],
   "source": [
    "for line in stdout:\n",
    "    print(line.strip())"
   ]
  },
  {
   "cell_type": "markdown",
   "metadata": {},
   "source": [
    "### Dealing with errors"
   ]
  },
  {
   "cell_type": "markdown",
   "metadata": {},
   "source": [
    "You can check the exit status of the command that was executed, the next one will not exit succesfully.  You can also access standard error."
   ]
  },
  {
   "cell_type": "code",
   "execution_count": null,
   "metadata": {
    "ExecuteTime": {
     "end_time": "2018-11-14T10:36:40.281831Z",
     "start_time": "2018-11-14T10:36:40.245972Z"
    }
   },
   "outputs": [],
   "source": [
    "_, stdout, stderr = client.exec_command('ls -l this_file_certainly_does_not_exists.txt')"
   ]
  },
  {
   "cell_type": "code",
   "execution_count": null,
   "metadata": {
    "ExecuteTime": {
     "end_time": "2018-11-14T10:36:40.371737Z",
     "start_time": "2018-11-14T10:36:40.299343Z"
    }
   },
   "outputs": [],
   "source": [
    "stdout.channel.recv_exit_status()"
   ]
  },
  {
   "cell_type": "code",
   "execution_count": null,
   "metadata": {
    "ExecuteTime": {
     "end_time": "2018-11-14T10:36:40.404423Z",
     "start_time": "2018-11-14T10:36:40.380884Z"
    }
   },
   "outputs": [],
   "source": [
    "print(''.join(stderr).rstrip())"
   ]
  },
  {
   "cell_type": "markdown",
   "metadata": {},
   "source": [
    "### Using standard input"
   ]
  },
  {
   "cell_type": "markdown",
   "metadata": {},
   "source": [
    "Do an `wc` on a local file that will be standard input to the remote command, reading the result back in."
   ]
  },
  {
   "cell_type": "code",
   "execution_count": null,
   "metadata": {
    "ExecuteTime": {
     "end_time": "2018-11-14T10:36:40.446074Z",
     "start_time": "2018-11-14T10:36:40.419399Z"
    }
   },
   "outputs": [],
   "source": [
    "stdin, stdout, _ = client.exec_command('wc')"
   ]
  },
  {
   "cell_type": "markdown",
   "metadata": {},
   "source": [
    "Send the input to the remote `wc` by writing to `stdin`.  Once done, the channel for `stdin` should be shut down."
   ]
  },
  {
   "cell_type": "code",
   "execution_count": null,
   "metadata": {
    "ExecuteTime": {
     "end_time": "2018-11-14T10:36:40.746892Z",
     "start_time": "2018-11-14T10:36:40.450431Z"
    }
   },
   "outputs": [],
   "source": [
    "with open('julia_omp.f90', 'r') as file:\n",
    "    for line in file:\n",
    "        print(line, file=stdin, end='')\n",
    "stdin.channel.shutdown_write()"
   ]
  },
  {
   "cell_type": "markdown",
   "metadata": {},
   "source": [
    "Now the output from the command can be read from `stdout`."
   ]
  },
  {
   "cell_type": "code",
   "execution_count": null,
   "metadata": {
    "ExecuteTime": {
     "end_time": "2018-11-14T10:36:40.782534Z",
     "start_time": "2018-11-14T10:36:40.759333Z"
    },
    "scrolled": true
   },
   "outputs": [],
   "source": [
    "print(''.join(stdout).rstrip())"
   ]
  },
  {
   "cell_type": "markdown",
   "metadata": {},
   "source": [
    "Compare to the local result."
   ]
  },
  {
   "cell_type": "code",
   "execution_count": null,
   "metadata": {
    "ExecuteTime": {
     "end_time": "2018-11-14T10:36:40.992710Z",
     "start_time": "2018-11-14T10:36:40.805880Z"
    }
   },
   "outputs": [],
   "source": [
    "!wc julia_omp.f90"
   ]
  },
  {
   "cell_type": "code",
   "execution_count": null,
   "metadata": {
    "ExecuteTime": {
     "end_time": "2018-11-14T10:36:41.075964Z",
     "start_time": "2018-11-14T10:36:41.030884Z"
    }
   },
   "outputs": [],
   "source": [
    "client.close()"
   ]
  },
  {
   "cell_type": "markdown",
   "metadata": {},
   "source": [
    "## Using SFTP to transfer files"
   ]
  },
  {
   "cell_type": "code",
   "execution_count": null,
   "metadata": {
    "ExecuteTime": {
     "end_time": "2018-11-14T10:36:41.427788Z",
     "start_time": "2018-11-14T10:36:41.104550Z"
    }
   },
   "outputs": [],
   "source": [
    "client.connect(hostname, username='vsc30140')"
   ]
  },
  {
   "cell_type": "markdown",
   "metadata": {},
   "source": [
    "Open an SFTP client to the remote host, and put a file on the system."
   ]
  },
  {
   "cell_type": "code",
   "execution_count": null,
   "metadata": {
    "ExecuteTime": {
     "end_time": "2018-11-14T10:36:41.510158Z",
     "start_time": "2018-11-14T10:36:41.453558Z"
    }
   },
   "outputs": [],
   "source": [
    "sftp_client = client.open_sftp()"
   ]
  },
  {
   "cell_type": "markdown",
   "metadata": {},
   "source": [
    "Define paths to the input file and output file."
   ]
  },
  {
   "cell_type": "code",
   "execution_count": null,
   "metadata": {
    "ExecuteTime": {
     "end_time": "2018-11-14T10:36:41.566153Z",
     "start_time": "2018-11-14T10:36:41.541493Z"
    }
   },
   "outputs": [],
   "source": [
    "input_path = Path('julia_omp.f90')\n",
    "output_path = Path('julia_omp_wc.txt')"
   ]
  },
  {
   "cell_type": "code",
   "execution_count": null,
   "metadata": {
    "ExecuteTime": {
     "end_time": "2018-11-14T10:36:41.671042Z",
     "start_time": "2018-11-14T10:36:41.634693Z"
    }
   },
   "outputs": [],
   "source": [
    "_ = sftp_client.put(str(input_path), str(input_path))"
   ]
  },
  {
   "cell_type": "markdown",
   "metadata": {},
   "source": [
    "Check whether the input file is on the remote host."
   ]
  },
  {
   "cell_type": "code",
   "execution_count": null,
   "metadata": {
    "ExecuteTime": {
     "end_time": "2018-11-14T10:36:41.720460Z",
     "start_time": "2018-11-14T10:36:41.682944Z"
    }
   },
   "outputs": [],
   "source": [
    "_, stdout, stderr = client.exec_command(f'ls -l {input_path}')\n",
    "print(''.join(stdout).rstrip())\n",
    "print(''.join(stderr).rstrip())"
   ]
  },
  {
   "cell_type": "markdown",
   "metadata": {},
   "source": [
    "Compute the word count, redirecting the output to a file."
   ]
  },
  {
   "cell_type": "code",
   "execution_count": null,
   "metadata": {
    "ExecuteTime": {
     "end_time": "2018-11-14T10:36:41.772076Z",
     "start_time": "2018-11-14T10:36:41.728772Z"
    }
   },
   "outputs": [],
   "source": [
    "_, _, stderr = client.exec_command(f'wc {input_path} > {output_path}')"
   ]
  },
  {
   "cell_type": "markdown",
   "metadata": {},
   "source": [
    "Show standard error."
   ]
  },
  {
   "cell_type": "code",
   "execution_count": null,
   "metadata": {
    "ExecuteTime": {
     "end_time": "2018-11-14T10:36:41.826462Z",
     "start_time": "2018-11-14T10:36:41.788142Z"
    }
   },
   "outputs": [],
   "source": [
    "print(''.join(stderr).rstrip())"
   ]
  },
  {
   "cell_type": "markdown",
   "metadata": {},
   "source": [
    "Transfer the result back to the local host."
   ]
  },
  {
   "cell_type": "code",
   "execution_count": null,
   "metadata": {
    "ExecuteTime": {
     "end_time": "2018-11-14T10:36:41.910432Z",
     "start_time": "2018-11-14T10:36:41.851594Z"
    }
   },
   "outputs": [],
   "source": [
    "sftp_client.get(str(output_path), str(output_path))"
   ]
  },
  {
   "cell_type": "code",
   "execution_count": null,
   "metadata": {
    "ExecuteTime": {
     "end_time": "2018-11-14T10:36:42.115621Z",
     "start_time": "2018-11-14T10:36:41.919377Z"
    }
   },
   "outputs": [],
   "source": [
    "!cat julia_omp_wc.txt"
   ]
  },
  {
   "cell_type": "markdown",
   "metadata": {},
   "source": [
    "Remove the local output file."
   ]
  },
  {
   "cell_type": "code",
   "execution_count": null,
   "metadata": {
    "ExecuteTime": {
     "end_time": "2018-11-14T10:36:42.179519Z",
     "start_time": "2018-11-14T10:36:42.156810Z"
    }
   },
   "outputs": [],
   "source": [
    "output_path.unlink()"
   ]
  },
  {
   "cell_type": "markdown",
   "metadata": {},
   "source": [
    "Remove the remote input and output files."
   ]
  },
  {
   "cell_type": "code",
   "execution_count": null,
   "metadata": {
    "ExecuteTime": {
     "end_time": "2018-11-14T10:36:42.235726Z",
     "start_time": "2018-11-14T10:36:42.195478Z"
    }
   },
   "outputs": [],
   "source": [
    "_, _, _ = client.exec_command(f'rm {input_path} {output_path}')"
   ]
  },
  {
   "cell_type": "markdown",
   "metadata": {},
   "source": [
    "Close the SFTP client and the SSH client."
   ]
  },
  {
   "cell_type": "code",
   "execution_count": null,
   "metadata": {
    "ExecuteTime": {
     "end_time": "2018-11-14T10:36:42.288331Z",
     "start_time": "2018-11-14T10:36:42.256585Z"
    }
   },
   "outputs": [],
   "source": [
    "sftp_client.close()\n",
    "client.close()"
   ]
  }
 ],
 "metadata": {
  "kernelspec": {
   "display_name": "Python 3 (ipykernel)",
   "language": "python",
   "name": "python3"
  },
  "language_info": {
   "codemirror_mode": {
    "name": "ipython",
    "version": 3
   },
   "file_extension": ".py",
   "mimetype": "text/x-python",
   "name": "python",
   "nbconvert_exporter": "python",
   "pygments_lexer": "ipython3",
   "version": "3.11.3"
  }
 },
 "nbformat": 4,
 "nbformat_minor": 4
}
